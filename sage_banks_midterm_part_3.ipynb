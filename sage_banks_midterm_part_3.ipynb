{
  "nbformat": 4,
  "nbformat_minor": 0,
  "metadata": {
    "colab": {
      "provenance": [],
      "authorship_tag": "ABX9TyPTryufnOVd4cTozxN0grjV",
      "include_colab_link": true
    },
    "kernelspec": {
      "name": "python3",
      "display_name": "Python 3"
    },
    "language_info": {
      "name": "python"
    }
  },
  "cells": [
    {
      "cell_type": "markdown",
      "metadata": {
        "id": "view-in-github",
        "colab_type": "text"
      },
      "source": [
        "<a href=\"https://colab.research.google.com/github/sagebanks/Data-Science/blob/main/sage_banks_midterm_part_3.ipynb\" target=\"_parent\"><img src=\"https://colab.research.google.com/assets/colab-badge.svg\" alt=\"Open In Colab\"/></a>"
      ]
    },
    {
      "cell_type": "code",
      "execution_count": null,
      "metadata": {
        "id": "Bh9T7odtQ5s0"
      },
      "outputs": [],
      "source": [
        "import numpy as np\n",
        "import matplotlib.pyplot as plt"
      ]
    },
    {
      "cell_type": "code",
      "source": [
        "X= np.array([12,9,20,7,2])\n",
        "Y= np.array([38,28,63,22,6])\n"
      ],
      "metadata": {
        "id": "05q_ePfNQ-nh"
      },
      "execution_count": null,
      "outputs": []
    },
    {
      "cell_type": "code",
      "source": [
        "#circumfrence and diametes of 5 objects"
      ],
      "metadata": {
        "id": "P0E3_aRMUHcQ"
      },
      "execution_count": null,
      "outputs": []
    },
    {
      "cell_type": "code",
      "source": [
        "plt.plot(X,Y,'g.')"
      ],
      "metadata": {
        "colab": {
          "base_uri": "https://localhost:8080/",
          "height": 282
        },
        "id": "ZJuAYDaKRctw",
        "outputId": "bc37b893-c3fd-456a-db38-ae6f7581ce46"
      },
      "execution_count": null,
      "outputs": [
        {
          "output_type": "execute_result",
          "data": {
            "text/plain": [
              "[<matplotlib.lines.Line2D at 0x7f109f6fbc50>]"
            ]
          },
          "metadata": {},
          "execution_count": 47
        },
        {
          "output_type": "display_data",
          "data": {
            "text/plain": [
              "<Figure size 432x288 with 1 Axes>"
            ],
            "image/png": "[encoded data removed]"
          },
          "metadata": {
            "needs_background": "light"
          }
        }
      ]
    },
    {
      "cell_type": "code",
      "source": [
        "m_guess= 0\n",
        "b_guess= 0\n"
      ],
      "metadata": {
        "id": "9QWoReSpRgyA"
      },
      "execution_count": null,
      "outputs": []
    },
    {
      "cell_type": "code",
      "source": [
        "#guesses for m & b"
      ],
      "metadata": {
        "id": "tgXyqsIHT0ao"
      },
      "execution_count": null,
      "outputs": []
    },
    {
      "cell_type": "code",
      "source": [
        "m_guess * X + b_guess"
      ],
      "metadata": {
        "colab": {
          "base_uri": "https://localhost:8080/"
        },
        "id": "y8NJW9vsSNev",
        "outputId": "10f4f905-25b6-4862-cb2e-45e341cc1a06"
      },
      "execution_count": null,
      "outputs": [
        {
          "output_type": "execute_result",
          "data": {
            "text/plain": [
              "array([0, 0, 0, 0, 0])"
            ]
          },
          "metadata": {},
          "execution_count": 50
        }
      ]
    },
    {
      "cell_type": "code",
      "source": [],
      "metadata": {
        "id": "76L65PwqSVGA"
      },
      "execution_count": null,
      "outputs": []
    },
    {
      "cell_type": "markdown",
      "source": [
        "$y=mx+b$"
      ],
      "metadata": {
        "id": "hJQl1pjcSxmr"
      }
    },
    {
      "cell_type": "code",
      "source": [
        "#linear model"
      ],
      "metadata": {
        "id": "eHQ3o5YqT3Eh"
      },
      "execution_count": null,
      "outputs": []
    },
    {
      "cell_type": "code",
      "source": [
        "y_guess = m_guess * X + b_guess"
      ],
      "metadata": {
        "id": "zOkShf-FS4MA"
      },
      "execution_count": null,
      "outputs": []
    },
    {
      "cell_type": "code",
      "source": [
        "y_guess - Y"
      ],
      "metadata": {
        "colab": {
          "base_uri": "https://localhost:8080/"
        },
        "id": "VhNpSv2hTQiQ",
        "outputId": "81add757-8273-4e79-d735-f3ff85e2ac02"
      },
      "execution_count": null,
      "outputs": [
        {
          "output_type": "execute_result",
          "data": {
            "text/plain": [
              "array([-38, -28, -63, -22,  -6])"
            ]
          },
          "metadata": {},
          "execution_count": 53
        }
      ]
    },
    {
      "cell_type": "code",
      "source": [
        "#we are subtracting the differance from the line and the data point"
      ],
      "metadata": {
        "id": "ac0TMBSYT5ZA"
      },
      "execution_count": null,
      "outputs": []
    },
    {
      "cell_type": "code",
      "source": [
        "(y_guess - Y)**2"
      ],
      "metadata": {
        "colab": {
          "base_uri": "https://localhost:8080/"
        },
        "id": "RUBWpX9vTolv",
        "outputId": "2d2a5d7e-73f7-43cd-facd-eaa02680ee65"
      },
      "execution_count": null,
      "outputs": [
        {
          "output_type": "execute_result",
          "data": {
            "text/plain": [
              "array([1444,  784, 3969,  484,   36])"
            ]
          },
          "metadata": {},
          "execution_count": 55
        }
      ]
    },
    {
      "cell_type": "code",
      "source": [
        "#turns the negative numbers into posive numbers by squaring it so tey dont cancel out"
      ],
      "metadata": {
        "id": "TRansQ6wUS3x"
      },
      "execution_count": null,
      "outputs": []
    },
    {
      "cell_type": "code",
      "source": [
        "np.sum((y_guess - Y)**2)"
      ],
      "metadata": {
        "colab": {
          "base_uri": "https://localhost:8080/"
        },
        "id": "yGG5trtQUYoR",
        "outputId": "cf77615f-55ed-4701-8e00-42c736899149"
      },
      "execution_count": null,
      "outputs": [
        {
          "output_type": "execute_result",
          "data": {
            "text/plain": [
              "6717"
            ]
          },
          "metadata": {},
          "execution_count": 57
        }
      ]
    },
    {
      "cell_type": "code",
      "source": [
        "#least square bet fit"
      ],
      "metadata": {
        "id": "dwwDj9wdWJTQ"
      },
      "execution_count": null,
      "outputs": []
    },
    {
      "cell_type": "code",
      "source": [
        "#adds up all of the areas"
      ],
      "metadata": {
        "id": "ULJTOFCMUx9Q"
      },
      "execution_count": null,
      "outputs": []
    },
    {
      "cell_type": "code",
      "source": [
        "loss=np.sum((y_guess - Y)**2)"
      ],
      "metadata": {
        "id": "pDi2PnaWU7ew"
      },
      "execution_count": null,
      "outputs": []
    },
    {
      "cell_type": "code",
      "source": [
        "for m_guess in np.linspace (-100,100,100):\n",
        "  print(m_guess)"
      ],
      "metadata": {
        "id": "3D8yT9TxWPe_"
      },
      "execution_count": null,
      "outputs": []
    },
    {
      "cell_type": "code",
      "source": [
        "#printing out all possible guesses for m with the assumption its not less than -100 or bigger than 100"
      ],
      "metadata": {
        "id": "1fDipmfDWgoP"
      },
      "execution_count": null,
      "outputs": []
    },
    {
      "cell_type": "code",
      "source": [
        "\n",
        "for m_guess in np.linspace (-100,100,100):\n",
        "  for b_guess in np.linspace (-100,100,100):\n",
        "   print(m_guess,b_guess)\n",
        "   y_guess = m_guess * X + b_guess"
      ],
      "metadata": {
        "id": "tWZYwgRTWvjA"
      },
      "execution_count": null,
      "outputs": []
    },
    {
      "cell_type": "code",
      "source": [
        "#Linear Regression"
      ],
      "metadata": {
        "id": "kuBfnDggXNX4"
      },
      "execution_count": null,
      "outputs": []
    },
    {
      "cell_type": "code",
      "source": [
        "#searching through all values of m and values of b it will show all possible values"
      ],
      "metadata": {
        "id": "4OVb87lpXi7g"
      },
      "execution_count": null,
      "outputs": []
    },
    {
      "cell_type": "code",
      "source": [
        "\n",
        "for m_guess in np.linspace (-100,100,100):\n",
        "  for b_guess in np.linspace (-100,100,100):\n",
        "\n",
        "       y_guess = m_guess * X + b_guess\n",
        "\n",
        "       loss=np.sum((y_guess - Y)**2)\n",
        "\n",
        "       print(m_guess,b_guess,loss)"
      ],
      "metadata": {
        "id": "bSfYhpZKX0q-"
      },
      "execution_count": null,
      "outputs": []
    },
    {
      "cell_type": "code",
      "source": [
        "#we print the current guess for m and the current guess for b and what the loss is"
      ],
      "metadata": {
        "id": "AlaPiYxvYXEK"
      },
      "execution_count": null,
      "outputs": []
    },
    {
      "cell_type": "code",
      "source": [
        "best_loss_so_far=10000000000\n",
        "\n",
        "m_best=0\n",
        "b_best=0\n",
        "\n",
        "for m_guess in np.linspace (-100,100,100):\n",
        "  for b_guess in np.linspace (-100,100,100):\n",
        "\n",
        "       y_guess = m_guess * X + b_guess\n",
        "\n",
        "       loss=np.sum((y_guess - Y)**2)\n",
        "\n",
        "\n",
        "       if loss < best_loss_so_far:\n",
        "         m_best = m_guess\n",
        "         b_best = b_guess\n",
        "         best_loss_so_far = loss\n",
        "print(\"Found Better Fit:\")\n",
        "print(m_best,b_best,loss)"
      ],
      "metadata": {
        "colab": {
          "base_uri": "https://localhost:8080/"
        },
        "id": "S1RBeIPnYokw",
        "outputId": "05bbfc9d-64a7-44eb-99b2-c8c6d3300c96"
      },
      "execution_count": null,
      "outputs": [
        {
          "output_type": "stream",
          "name": "stdout",
          "text": [
            "Found Better Fit:\n",
            "3.030303030303031 1.0101010101010104 7378517.0\n"
          ]
        }
      ]
    },
    {
      "cell_type": "code",
      "source": [
        "#to find the best guess it will print found better fit when it finds the best guess\n",
        "#first number is the slope of the line of best fit (PI), second number is the y-intercept, and third numbers is the loss\n",
        "#it relates the diameter of the circle to the circumfrece of the circle"
      ],
      "metadata": {
        "id": "6lx6xn4sZDGZ"
      },
      "execution_count": null,
      "outputs": []
    },
    {
      "cell_type": "code",
      "source": [],
      "metadata": {
        "id": "5h3-9WxmWes9"
      },
      "execution_count": null,
      "outputs": []
    },
    {
      "cell_type": "markdown",
      "source": [
        "Part 3: Interpretation\n",
        "Answer the questions in text cells\n"
      ],
      "metadata": {
        "id": "92qe0awlWqHO"
      }
    },
    {
      "cell_type": "markdown",
      "source": [
        "Question 1:\n",
        "\n",
        "What do  𝑚  and  𝑏  represent in these equations?"
      ],
      "metadata": {
        "id": "fHZyd1m_WuWJ"
      }
    },
    {
      "cell_type": "markdown",
      "source": [
        "m represents the slope of the line and b represents the point at which the line crosses the y axis"
      ],
      "metadata": {
        "id": "rTLMLxe_W5M3"
      }
    },
    {
      "cell_type": "markdown",
      "source": [
        "Question 2:\n",
        "\n",
        "Guess what the correct values  𝑚  and  𝑏  should be."
      ],
      "metadata": {
        "id": "tGoUEVbHWzHS"
      }
    },
    {
      "cell_type": "markdown",
      "source": [
        "m could be 1 and b could be 3"
      ],
      "metadata": {
        "id": "I6NO10xcW7We"
      }
    },
    {
      "cell_type": "markdown",
      "source": [
        "Question 3:\n",
        "\n",
        "Does it make sense to include  𝑏  in the parameters?"
      ],
      "metadata": {
        "id": "sfTFsHlaW2R4"
      }
    },
    {
      "cell_type": "markdown",
      "source": [
        "it does make sense because you need it to have the line of best fit since b is the intercept"
      ],
      "metadata": {
        "id": "jwbAZ42jW9Fj"
      }
    },
    {
      "cell_type": "code",
      "source": [],
      "metadata": {
        "id": "ODhRUfHQbntx"
      },
      "execution_count": null,
      "outputs": []
    }
  ]
}
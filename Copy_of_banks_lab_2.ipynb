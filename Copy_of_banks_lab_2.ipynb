{
  "nbformat": 4,
  "nbformat_minor": 0,
  "metadata": {
    "colab": {
      "provenance": [],
      "authorship_tag": "ABX9TyNjtgw8Vs4RBwKDjKdujsc8",
      "include_colab_link": true
    },
    "kernelspec": {
      "name": "python3",
      "display_name": "Python 3"
    },
    "language_info": {
      "name": "python"
    }
  },
  "cells": [
    {
      "cell_type": "markdown",
      "metadata": {
        "id": "view-in-github",
        "colab_type": "text"
      },
      "source": [
        "<a href=\"https://colab.research.google.com/github/sagebanks/Data-Science/blob/main/Copy_of_banks_lab_2.ipynb\" target=\"_parent\"><img src=\"https://colab.research.google.com/assets/colab-badge.svg\" alt=\"Open In Colab\"/></a>"
      ]
    },
    {
      "cell_type": "code",
      "source": [
        "import matplotlib.pyplot as plt"
      ],
      "metadata": {
        "id": "_1M1GZkz2aRR"
      },
      "execution_count": 1,
      "outputs": []
    },
    {
      "cell_type": "code",
      "execution_count": 2,
      "metadata": {
        "colab": {
          "base_uri": "https://localhost:8080/",
          "height": 316
        },
        "id": "89_7UJvG1VpK",
        "outputId": "2a40313d-d06c-431e-a031-8616d0919cf3"
      },
      "outputs": [
        {
          "output_type": "execute_result",
          "data": {
            "text/plain": [
              "(-1.2142507666786346,\n",
              " 1.134711077927507,\n",
              " -1.1258468317413044,\n",
              " 1.101230806657754)"
            ]
          },
          "metadata": {},
          "execution_count": 2
        },
        {
          "output_type": "display_data",
          "data": {
            "text/plain": [
              "<Figure size 432x288 with 1 Axes>"
            ],
            "image/png": "[encoded data removed]"
          },
          "metadata": {}
        }
      ],
      "source": [
        "labels=['frogs','dogs', 'cats', 'birds']\n",
        "\n",
        "sizes= [15,30,45,10]\n",
        "\n",
        "explode= (0,0.1,0,0)\n",
        "\n",
        "fig1,ax1=plt.subplots()\n",
        "ax1.pie(sizes,\n",
        "        explode=explode,\n",
        "        labels =labels,\n",
        "        autopct='%1.1f%%',\n",
        "        shadow=True,\n",
        "        startangle=90)\n",
        "ax1.axis('equal')"
      ]
    },
    {
      "cell_type": "markdown",
      "source": [
        "#explode makes the shapes move further apart"
      ],
      "metadata": {
        "id": "2pwtuOWN4c8D"
      }
    },
    {
      "cell_type": "code",
      "source": [
        "labels=['lizard','fish', 'ant', 'worm']\n",
        "\n",
        "sizes= [20,12,30,10]\n",
        "\n",
        "explode= (2,3,4,5)\n",
        "\n",
        "fig1,ax1=plt.subplots()\n",
        "ax1.pie(sizes,\n",
        "        explode=explode,\n",
        "        labels =labels,\n",
        "        autopct='%2.2f%%',\n",
        "        shadow=True,\n",
        "        startangle=90)\n",
        "ax1.axis('equal')"
      ],
      "metadata": {
        "colab": {
          "base_uri": "https://localhost:8080/",
          "height": 265
        },
        "id": "cmJymNkk1rrz",
        "outputId": "fd2919bc-28a2-4a91-ed98-57fe381b6da6"
      },
      "execution_count": 3,
      "outputs": [
        {
          "output_type": "execute_result",
          "data": {
            "text/plain": [
              "(-3.661350769322172, 4.6636668542689295, -3.756493175292597, 5.973826354065978)"
            ]
          },
          "metadata": {},
          "execution_count": 3
        },
        {
          "output_type": "display_data",
          "data": {
            "text/plain": [
              "<Figure size 432x288 with 1 Axes>"
            ],
            "image/png": "[encoded data removed]"
          },
          "metadata": {}
        }
      ]
    },
    {
      "cell_type": "code",
      "source": [
        "name='sage'"
      ],
      "metadata": {
        "id": "9BnwzdBm1rwa"
      },
      "execution_count": 4,
      "outputs": []
    },
    {
      "cell_type": "code",
      "source": [
        "name"
      ],
      "metadata": {
        "colab": {
          "base_uri": "https://localhost:8080/",
          "height": 37
        },
        "id": "WI0oLeY01ry6",
        "outputId": "54bdc59e-e2ea-48cf-8818-bb3d0476a812"
      },
      "execution_count": 5,
      "outputs": [
        {
          "output_type": "execute_result",
          "data": {
            "text/plain": [
              "'sage'"
            ],
            "application/vnd.google.colaboratory.intrinsic+json": {
              "type": "string"
            }
          },
          "metadata": {},
          "execution_count": 5
        }
      ]
    },
    {
      "cell_type": "code",
      "source": [
        "f\"hello my name is {name}\""
      ],
      "metadata": {
        "colab": {
          "base_uri": "https://localhost:8080/",
          "height": 37
        },
        "id": "gbiKOggf1r2y",
        "outputId": "414a23f3-46f1-4201-d6a5-26113c13a585"
      },
      "execution_count": 6,
      "outputs": [
        {
          "output_type": "execute_result",
          "data": {
            "text/plain": [
              "'hello my name is sage'"
            ],
            "application/vnd.google.colaboratory.intrinsic+json": {
              "type": "string"
            }
          },
          "metadata": {},
          "execution_count": 6
        }
      ]
    },
    {
      "cell_type": "code",
      "source": [
        "#f string"
      ],
      "metadata": {
        "id": "-k-rHgvZ1r5a"
      },
      "execution_count": 7,
      "outputs": []
    },
    {
      "cell_type": "code",
      "source": [],
      "metadata": {
        "id": "VPX1j4nH5gQI"
      },
      "execution_count": 7,
      "outputs": []
    },
    {
      "cell_type": "markdown",
      "source": [
        "#Files"
      ],
      "metadata": {
        "id": "v_rIQbSZ5lwh"
      }
    },
    {
      "cell_type": "code",
      "source": [
        "f=open(\"hello.txt\",'w')\n",
        "\n",
        "data=\"hello world\"\n",
        "\n",
        "print(data, file=f)\n",
        "\n",
        "f.close()"
      ],
      "metadata": {
        "id": "vXx7J7bo5kBp"
      },
      "execution_count": 8,
      "outputs": []
    },
    {
      "cell_type": "code",
      "source": [
        "#created file in the cloud"
      ],
      "metadata": {
        "id": "xY5xQ7hf5kDy"
      },
      "execution_count": 9,
      "outputs": []
    },
    {
      "cell_type": "code",
      "source": [
        "f=open(\"hello2.txt\",'w')\n",
        "\n",
        "name=\"sage\"\n",
        "\n",
        "data=f\"hello {name}\"\n",
        "\n",
        "print(data, file=f)\n",
        "\n",
        "f.close()"
      ],
      "metadata": {
        "id": "0t3wBYoY5kFY"
      },
      "execution_count": 10,
      "outputs": []
    },
    {
      "cell_type": "code",
      "source": [
        "#files will not save without futher action"
      ],
      "metadata": {
        "id": "n3qIgoG66xlw"
      },
      "execution_count": 11,
      "outputs": []
    },
    {
      "cell_type": "code",
      "source": [
        "f=open(\"hello.txt\",'r')\n",
        "\n",
        "lines=f.readlines()\n",
        "\n",
        "print(lines)\n",
        "\n",
        "f.close()\n"
      ],
      "metadata": {
        "colab": {
          "base_uri": "https://localhost:8080/"
        },
        "id": "FUXDJyQq7GT2",
        "outputId": "cde6f6aa-0a74-4b6f-b02b-2145ff402057"
      },
      "execution_count": 12,
      "outputs": [
        {
          "output_type": "stream",
          "name": "stdout",
          "text": [
            "['hello world\\n']\n"
          ]
        }
      ]
    },
    {
      "cell_type": "markdown",
      "source": [
        "#Coin Flip"
      ],
      "metadata": {
        "id": "5LvYt0248R0R"
      }
    },
    {
      "cell_type": "code",
      "source": [
        "import numpy as np"
      ],
      "metadata": {
        "id": "-8VhJyvu8QUK"
      },
      "execution_count": 13,
      "outputs": []
    },
    {
      "cell_type": "code",
      "source": [
        "np.random.random()"
      ],
      "metadata": {
        "colab": {
          "base_uri": "https://localhost:8080/"
        },
        "id": "c7_ocHS38QW5",
        "outputId": "8b526537-d4d5-45d0-9014-aa8b97cc9b09"
      },
      "execution_count": 14,
      "outputs": [
        {
          "output_type": "execute_result",
          "data": {
            "text/plain": [
              "0.7050141179704342"
            ]
          },
          "metadata": {},
          "execution_count": 14
        }
      ]
    },
    {
      "cell_type": "code",
      "source": [
        "#makes random numbers from 0-1"
      ],
      "metadata": {
        "id": "eXt4vzIW8QZI"
      },
      "execution_count": 15,
      "outputs": []
    },
    {
      "cell_type": "code",
      "source": [
        "for index in range(10):\n",
        "  print(index)"
      ],
      "metadata": {
        "colab": {
          "base_uri": "https://localhost:8080/"
        },
        "id": "utAtsL2A8Qba",
        "outputId": "ab20b80f-7969-4b5d-a613-39d677acf540"
      },
      "execution_count": 16,
      "outputs": [
        {
          "output_type": "stream",
          "name": "stdout",
          "text": [
            "0\n",
            "1\n",
            "2\n",
            "3\n",
            "4\n",
            "5\n",
            "6\n",
            "7\n",
            "8\n",
            "9\n"
          ]
        }
      ]
    },
    {
      "cell_type": "code",
      "source": [
        "#a for loop lets you repeat a step"
      ],
      "metadata": {
        "id": "Avgv9u2z83xo"
      },
      "execution_count": 17,
      "outputs": []
    },
    {
      "cell_type": "code",
      "source": [
        "for index in range(20):\n",
        "  print(index, np.random.random())"
      ],
      "metadata": {
        "colab": {
          "base_uri": "https://localhost:8080/"
        },
        "id": "rb3_fC7L8924",
        "outputId": "b84470f1-49c0-45c3-cb0f-d477f826bc96"
      },
      "execution_count": 18,
      "outputs": [
        {
          "output_type": "stream",
          "name": "stdout",
          "text": [
            "0 0.3807755553060792\n",
            "1 0.1996503809066803\n",
            "2 0.4914924776790519\n",
            "3 0.5082628267921095\n",
            "4 0.48402085509600146\n",
            "5 0.9550772891887952\n",
            "6 0.1017104212158434\n",
            "7 0.7580190628715459\n",
            "8 0.6384186144889255\n",
            "9 0.4498998013282207\n",
            "10 0.9555176290027075\n",
            "11 0.27711661270656895\n",
            "12 0.48889964432579436\n",
            "13 0.6229991378862794\n",
            "14 0.31709538431825357\n",
            "15 0.30153961665455575\n",
            "16 0.3003042026798384\n",
            "17 0.5924735526562815\n",
            "18 0.2637879110673925\n",
            "19 0.20043706340971168\n"
          ]
        }
      ]
    },
    {
      "cell_type": "code",
      "source": [
        "#python likes to be tabbed in"
      ],
      "metadata": {
        "id": "n1FyUu1S9F14"
      },
      "execution_count": 19,
      "outputs": []
    },
    {
      "cell_type": "code",
      "source": [
        "for i in range(10):\n",
        "  print(i, np.random.random())"
      ],
      "metadata": {
        "colab": {
          "base_uri": "https://localhost:8080/"
        },
        "id": "-VhZLXie9PaI",
        "outputId": "ddd10c00-91dc-4c95-b0a3-f45b963c2795"
      },
      "execution_count": 20,
      "outputs": [
        {
          "output_type": "stream",
          "name": "stdout",
          "text": [
            "0 0.5512529567450932\n",
            "1 0.7984379003484913\n",
            "2 0.025805390707037912\n",
            "3 0.24271358271307752\n",
            "4 0.3061440715241506\n",
            "5 0.6915907838520965\n",
            "6 0.7358607830473487\n",
            "7 0.041180062257703653\n",
            "8 0.16759751118281574\n",
            "9 0.23018275046475922\n"
          ]
        }
      ]
    },
    {
      "cell_type": "code",
      "source": [
        "#index as a word is a shortcut and doesnt matter"
      ],
      "metadata": {
        "id": "Qco39Dw49WVg"
      },
      "execution_count": 21,
      "outputs": []
    },
    {
      "cell_type": "code",
      "source": [
        "for step in range(5):\n",
        "  print(step,\"hello your number is:\", np.random.random())"
      ],
      "metadata": {
        "colab": {
          "base_uri": "https://localhost:8080/"
        },
        "id": "WxIgy8DI9k53",
        "outputId": "0c22ee00-4aa7-4e8d-ec1b-c44d34d9b9b0"
      },
      "execution_count": 22,
      "outputs": [
        {
          "output_type": "stream",
          "name": "stdout",
          "text": [
            "0 hello your number is: 0.043599414242367796\n",
            "1 hello your number is: 0.2193007951888586\n",
            "2 hello your number is: 0.46566804308238274\n",
            "3 hello your number is: 0.6189148112528106\n",
            "4 hello your number is: 0.49285352378729885\n"
          ]
        }
      ]
    },
    {
      "cell_type": "code",
      "source": [
        "#printing a string that says hello your number is"
      ],
      "metadata": {
        "id": "MDnXpb8D94UL"
      },
      "execution_count": 23,
      "outputs": []
    },
    {
      "cell_type": "code",
      "source": [
        " np.random.random()"
      ],
      "metadata": {
        "colab": {
          "base_uri": "https://localhost:8080/"
        },
        "id": "Obbbky6s-HYo",
        "outputId": "7cb57aa1-e0d6-4c94-e326-0b427abc9492"
      },
      "execution_count": 24,
      "outputs": [
        {
          "output_type": "execute_result",
          "data": {
            "text/plain": [
              "0.8978303681639919"
            ]
          },
          "metadata": {},
          "execution_count": 24
        }
      ]
    },
    {
      "cell_type": "code",
      "source": [
        " np.random.random()>0.5"
      ],
      "metadata": {
        "colab": {
          "base_uri": "https://localhost:8080/"
        },
        "id": "fadTzzdq-Mq6",
        "outputId": "05543889-b871-4c61-8167-7cec73697d8c"
      },
      "execution_count": 25,
      "outputs": [
        {
          "output_type": "execute_result",
          "data": {
            "text/plain": [
              "True"
            ]
          },
          "metadata": {},
          "execution_count": 25
        }
      ]
    },
    {
      "cell_type": "code",
      "source": [
        "for flip in range(10):\n",
        "  print(np.random.random()>0.5)\n"
      ],
      "metadata": {
        "colab": {
          "base_uri": "https://localhost:8080/"
        },
        "id": "ka3tDHki-Mth",
        "outputId": "3127c49c-3cdc-4789-f9db-29a267170a37"
      },
      "execution_count": 26,
      "outputs": [
        {
          "output_type": "stream",
          "name": "stdout",
          "text": [
            "False\n",
            "False\n",
            "False\n",
            "True\n",
            "True\n",
            "False\n",
            "True\n",
            "True\n",
            "False\n",
            "False\n"
          ]
        }
      ]
    },
    {
      "cell_type": "code",
      "source": [
        "for flip in range(10):\n",
        "  coin=np.random.random()>0.5\n",
        "  if coin==True:\n",
        "    print(\"heads\")\n",
        "  else:\n",
        "      print(\"tails\")"
      ],
      "metadata": {
        "colab": {
          "base_uri": "https://localhost:8080/"
        },
        "id": "uZJoNUwR-MyZ",
        "outputId": "2f10c5a2-501e-45cf-be03-e1d9be6ef11e"
      },
      "execution_count": 27,
      "outputs": [
        {
          "output_type": "stream",
          "name": "stdout",
          "text": [
            "heads\n",
            "heads\n",
            "heads\n",
            "tails\n",
            "tails\n",
            "heads\n",
            "heads\n",
            "tails\n",
            "heads\n",
            "tails\n"
          ]
        }
      ]
    },
    {
      "cell_type": "markdown",
      "source": [
        "it flippied the coin and picked a random 10 times of heads or tails"
      ],
      "metadata": {
        "id": "kaUcNRX3wUvb"
      }
    },
    {
      "cell_type": "code",
      "source": [],
      "metadata": {
        "id": "TxXDmPCo-M04"
      },
      "execution_count": 27,
      "outputs": []
    },
    {
      "cell_type": "markdown",
      "source": [
        "#Functions"
      ],
      "metadata": {
        "id": "QzHxTmZsAzox"
      }
    },
    {
      "cell_type": "code",
      "source": [
        "def flip_coin():\n",
        "    coin=np.random.random()>0.5\n",
        "    if coin==True:\n",
        "       print(\"heads\")\n",
        "    else:\n",
        "        print(\"tails\")"
      ],
      "metadata": {
        "id": "hzgYIpz4-M3Z"
      },
      "execution_count": 28,
      "outputs": []
    },
    {
      "cell_type": "markdown",
      "source": [
        "this flips a coin to say heads or tails but with no pictures involved it just picks at random"
      ],
      "metadata": {
        "id": "xzZzs19owLu2"
      }
    },
    {
      "cell_type": "code",
      "source": [
        "flip_coin()"
      ],
      "metadata": {
        "colab": {
          "base_uri": "https://localhost:8080/"
        },
        "id": "VWDjJsqp-M5s",
        "outputId": "03e8e6fa-3264-4a0c-83ba-6c720248727c"
      },
      "execution_count": 29,
      "outputs": [
        {
          "output_type": "stream",
          "name": "stdout",
          "text": [
            "heads\n"
          ]
        }
      ]
    },
    {
      "cell_type": "code",
      "source": [
        "flip_coin()"
      ],
      "metadata": {
        "colab": {
          "base_uri": "https://localhost:8080/"
        },
        "id": "8KpgNIscBOjY",
        "outputId": "1a7aa515-81b1-4547-ada5-3784e12d86bb"
      },
      "execution_count": 30,
      "outputs": [
        {
          "output_type": "stream",
          "name": "stdout",
          "text": [
            "tails\n"
          ]
        }
      ]
    },
    {
      "cell_type": "code",
      "source": [
        "flip_coin()"
      ],
      "metadata": {
        "colab": {
          "base_uri": "https://localhost:8080/"
        },
        "id": "EAHbsjWZBeBo",
        "outputId": "2ea63de4-318d-433e-bfe0-b7b19aebbb65"
      },
      "execution_count": 31,
      "outputs": [
        {
          "output_type": "stream",
          "name": "stdout",
          "text": [
            "tails\n"
          ]
        }
      ]
    },
    {
      "cell_type": "code",
      "source": [
        "flip_coin()"
      ],
      "metadata": {
        "colab": {
          "base_uri": "https://localhost:8080/"
        },
        "id": "9x_06POWBgso",
        "outputId": "880c8a18-e1a8-4925-d2c3-089a1e75fde6"
      },
      "execution_count": 32,
      "outputs": [
        {
          "output_type": "stream",
          "name": "stdout",
          "text": [
            "heads\n"
          ]
        }
      ]
    },
    {
      "cell_type": "code",
      "source": [
        "flip_coin()"
      ],
      "metadata": {
        "colab": {
          "base_uri": "https://localhost:8080/"
        },
        "id": "O2nEg6NXBhRo",
        "outputId": "b9e67806-43ae-496c-c2ff-b1abd38f7141"
      },
      "execution_count": 33,
      "outputs": [
        {
          "output_type": "stream",
          "name": "stdout",
          "text": [
            "tails\n"
          ]
        }
      ]
    },
    {
      "cell_type": "code",
      "source": [
        "flip_coin()"
      ],
      "metadata": {
        "colab": {
          "base_uri": "https://localhost:8080/"
        },
        "id": "RWKzJ_VNBhqY",
        "outputId": "0f0e84cf-4a0d-4d1e-ce83-2ec035247128"
      },
      "execution_count": 34,
      "outputs": [
        {
          "output_type": "stream",
          "name": "stdout",
          "text": [
            "tails\n"
          ]
        }
      ]
    },
    {
      "cell_type": "code",
      "source": [
        "for i in range(10):\n",
        "  flip_coin()"
      ],
      "metadata": {
        "colab": {
          "base_uri": "https://localhost:8080/"
        },
        "id": "IHQbaqsHCER4",
        "outputId": "caa0ff9c-74c9-4e6e-af79-228c78e8546f"
      },
      "execution_count": 35,
      "outputs": [
        {
          "output_type": "stream",
          "name": "stdout",
          "text": [
            "heads\n",
            "tails\n",
            "heads\n",
            "heads\n",
            "tails\n",
            "heads\n",
            "tails\n",
            "heads\n",
            "tails\n",
            "tails\n"
          ]
        }
      ]
    },
    {
      "cell_type": "markdown",
      "source": [
        "#Graphics"
      ],
      "metadata": {
        "id": "KPFJzGAICbwh"
      }
    },
    {
      "cell_type": "code",
      "source": [
        "from IPython.core.display import display, HTML"
      ],
      "metadata": {
        "id": "Wnp-AV5RCdGX"
      },
      "execution_count": 36,
      "outputs": []
    },
    {
      "cell_type": "code",
      "source": [
        "display(HTML('<h1>hello world</h1>'))"
      ],
      "metadata": {
        "colab": {
          "base_uri": "https://localhost:8080/",
          "height": 74
        },
        "id": "-8_wkTZUCmQI",
        "outputId": "fb124b14-4d5c-47aa-ff93-1aecaaa607d3"
      },
      "execution_count": 37,
      "outputs": [
        {
          "output_type": "display_data",
          "data": {
            "text/plain": [
              "<IPython.core.display.HTML object>"
            ],
            "text/html": [
              "<h1>hello world</h1>"
            ]
          },
          "metadata": {}
        }
      ]
    },
    {
      "cell_type": "code",
      "source": [
        "heads = 'https://random-ize.com/coin-flip/us-quarter/us-quarter-front.jpg'\n",
        "tails = 'https://random-ize.com/coin-flip/us-quarter/us-quarter-back.jpg'"
      ],
      "metadata": {
        "id": "nvRM-mrpDRgW"
      },
      "execution_count": 38,
      "outputs": []
    },
    {
      "cell_type": "code",
      "source": [
        "display(HTML('<img src=\"https://random-ize.com/coin-flip/us-quarter/us-quarter-front.jpg\">'))"
      ],
      "metadata": {
        "colab": {
          "base_uri": "https://localhost:8080/",
          "height": 221
        },
        "id": "zEnvSdi7D8pX",
        "outputId": "10057e3c-9cde-4554-f7cd-0435d3aed988"
      },
      "execution_count": 39,
      "outputs": [
        {
          "output_type": "display_data",
          "data": {
            "text/plain": [
              "<IPython.core.display.HTML object>"
            ],
            "text/html": [
              "<img src=\"https://random-ize.com/coin-flip/us-quarter/us-quarter-front.jpg\">"
            ]
          },
          "metadata": {}
        }
      ]
    },
    {
      "cell_type": "markdown",
      "source": [
        "the https is a link for the pictures of the coins"
      ],
      "metadata": {
        "id": "HG5wpOH0v4MV"
      }
    },
    {
      "cell_type": "code",
      "source": [
        "display(HTML('<img src= \"https://m.media-amazon.com/images/I/51bcZy+HZpL._AC_.jpg\">'))"
      ],
      "metadata": {
        "colab": {
          "base_uri": "https://localhost:8080/",
          "height": 317
        },
        "id": "Tm6AWK8aElBg",
        "outputId": "5f95608b-38b5-48e0-d6a8-c826e2250ebc"
      },
      "execution_count": 40,
      "outputs": [
        {
          "output_type": "display_data",
          "data": {
            "text/plain": [
              "<IPython.core.display.HTML object>"
            ],
            "text/html": [
              "<img src= \"https://m.media-amazon.com/images/I/51bcZy+HZpL._AC_.jpg\">"
            ]
          },
          "metadata": {}
        }
      ]
    },
    {
      "cell_type": "code",
      "source": [
        "def show_img(img):\n",
        "  display(HTML('<img src=' + img + '>'))"
      ],
      "metadata": {
        "id": "muYxa3ALFUjm"
      },
      "execution_count": 41,
      "outputs": []
    },
    {
      "cell_type": "code",
      "source": [
        "show_img(heads)"
      ],
      "metadata": {
        "colab": {
          "base_uri": "https://localhost:8080/",
          "height": 221
        },
        "id": "klrGCzGxF-66",
        "outputId": "344ef367-bedd-4fec-edc8-ab4696e5eec5"
      },
      "execution_count": 42,
      "outputs": [
        {
          "output_type": "display_data",
          "data": {
            "text/plain": [
              "<IPython.core.display.HTML object>"
            ],
            "text/html": [
              "<img src=https://random-ize.com/coin-flip/us-quarter/us-quarter-front.jpg>"
            ]
          },
          "metadata": {}
        }
      ]
    },
    {
      "cell_type": "code",
      "source": [
        "show_img(tails)"
      ],
      "metadata": {
        "colab": {
          "base_uri": "https://localhost:8080/",
          "height": 221
        },
        "id": "fkTxIqDtF-9H",
        "outputId": "5db76bcd-24ac-4b3f-eae8-75aa0d1ba84c"
      },
      "execution_count": 43,
      "outputs": [
        {
          "output_type": "display_data",
          "data": {
            "text/plain": [
              "<IPython.core.display.HTML object>"
            ],
            "text/html": [
              "<img src=https://random-ize.com/coin-flip/us-quarter/us-quarter-back.jpg>"
            ]
          },
          "metadata": {}
        }
      ]
    },
    {
      "cell_type": "code",
      "source": [
        "def flip_coin():\n",
        "    if np.random.random()>0.5:\n",
        "      show_img(heads)\n",
        "    else:\n",
        "      show_img(tails)\n"
      ],
      "metadata": {
        "id": "7qNqqXUwF---"
      },
      "execution_count": 44,
      "outputs": []
    },
    {
      "cell_type": "markdown",
      "source": [
        "this flips the coin at random to give you heads or tails"
      ],
      "metadata": {
        "id": "Y0FUFvs4wFBJ"
      }
    },
    {
      "cell_type": "code",
      "source": [
        "flip_coin()"
      ],
      "metadata": {
        "colab": {
          "base_uri": "https://localhost:8080/",
          "height": 221
        },
        "id": "GODGBmZiHwBQ",
        "outputId": "3dc35882-b531-4dd5-fc4f-9b8aa32679d2"
      },
      "execution_count": 45,
      "outputs": [
        {
          "output_type": "display_data",
          "data": {
            "text/plain": [
              "<IPython.core.display.HTML object>"
            ],
            "text/html": [
              "<img src=https://random-ize.com/coin-flip/us-quarter/us-quarter-back.jpg>"
            ]
          },
          "metadata": {}
        }
      ]
    },
    {
      "cell_type": "code",
      "source": [
        "flip_coin()"
      ],
      "metadata": {
        "id": "wmIwtneCHwD3",
        "colab": {
          "base_uri": "https://localhost:8080/",
          "height": 221
        },
        "outputId": "00b9b9fc-fe23-4b2c-b66c-0f21e5df75e1"
      },
      "execution_count": 46,
      "outputs": [
        {
          "output_type": "display_data",
          "data": {
            "text/plain": [
              "<IPython.core.display.HTML object>"
            ],
            "text/html": [
              "<img src=https://random-ize.com/coin-flip/us-quarter/us-quarter-front.jpg>"
            ]
          },
          "metadata": {}
        }
      ]
    },
    {
      "cell_type": "code",
      "source": [],
      "metadata": {
        "id": "m_l6Xp_tHwF_"
      },
      "execution_count": 46,
      "outputs": []
    },
    {
      "cell_type": "code",
      "source": [
        "\n"
      ],
      "metadata": {
        "id": "ND7w0r3fHos3"
      },
      "execution_count": 46,
      "outputs": []
    }
  ]
}